{
 "cells": [
  {
   "cell_type": "code",
   "execution_count": 1,
   "metadata": {},
   "outputs": [
    {
     "data": {
      "text/plain": [
       "'/data/ephemeral/home/dataset'"
      ]
     },
     "execution_count": 1,
     "metadata": {},
     "output_type": "execute_result"
    }
   ],
   "source": [
    "pwd"
   ]
  },
  {
   "cell_type": "code",
   "execution_count": 2,
   "metadata": {},
   "outputs": [],
   "source": [
    "import json\n",
    "\n",
    "# COCO 데이터셋 JSON 파일 로드\n",
    "with open('./train.json', 'r') as f:\n",
    "    coco_data = json.load(f)"
   ]
  },
  {
   "cell_type": "code",
   "execution_count": 3,
   "metadata": {},
   "outputs": [],
   "source": [
    "# 32x32 크기의 bbox만 추출\n",
    "filtered_annotations = []\n",
    "for annotation in coco_data['annotations']:\n",
    "    bbox = annotation['bbox']\n",
    "    # bbox 형식: [x, y, width, height]\n",
    "    if bbox[2] * bbox[3] < 32*32:  # width와 height가 32인 경우만 선택\n",
    "        filtered_annotations.append(annotation)"
   ]
  },
  {
   "cell_type": "code",
   "execution_count": 4,
   "metadata": {},
   "outputs": [
    {
     "name": "stdout",
     "output_type": "stream",
     "text": [
      "32x32 bbox가 포함된 데이터를 filtered_coco_dataset.json에 저장했습니다.\n"
     ]
    }
   ],
   "source": [
    "# 새로운 COCO JSON 데이터 구조 생성\n",
    "filtered_coco_data = {\n",
    "    \"info\": coco_data['info'],\n",
    "    \"licenses\": coco_data['licenses'],\n",
    "    \"images\": coco_data['images'],\n",
    "    \"annotations\": filtered_annotations,\n",
    "    \"categories\": coco_data['categories']\n",
    "}\n",
    "\n",
    "# 필터링된 데이터 저장\n",
    "with open('train_32_32_coco_dataset.json', 'w') as f:\n",
    "    json.dump(filtered_coco_data, f, indent=4)\n",
    "\n",
    "print(f\"32x32 bbox가 포함된 데이터를 filtered_coco_dataset.json에 저장했습니다.\")\n"
   ]
  },
  {
   "cell_type": "code",
   "execution_count": 5,
   "metadata": {},
   "outputs": [
    {
     "data": {
      "text/plain": [
       "313"
      ]
     },
     "execution_count": 5,
     "metadata": {},
     "output_type": "execute_result"
    }
   ],
   "source": [
    "len(filtered_annotations)"
   ]
  },
  {
   "cell_type": "code",
   "execution_count": null,
   "metadata": {},
   "outputs": [],
   "source": [
    "filtered_annotations"
   ]
  },
  {
   "cell_type": "code",
   "execution_count": 7,
   "metadata": {},
   "outputs": [],
   "source": [
    "import pandas as pd"
   ]
  },
  {
   "cell_type": "code",
   "execution_count": 8,
   "metadata": {},
   "outputs": [],
   "source": [
    "df = pd.DataFrame(filtered_annotations)"
   ]
  },
  {
   "cell_type": "code",
   "execution_count": 9,
   "metadata": {},
   "outputs": [
    {
     "data": {
      "text/html": [
       "<div>\n",
       "<style scoped>\n",
       "    .dataframe tbody tr th:only-of-type {\n",
       "        vertical-align: middle;\n",
       "    }\n",
       "\n",
       "    .dataframe tbody tr th {\n",
       "        vertical-align: top;\n",
       "    }\n",
       "\n",
       "    .dataframe thead th {\n",
       "        text-align: right;\n",
       "    }\n",
       "</style>\n",
       "<table border=\"1\" class=\"dataframe\">\n",
       "  <thead>\n",
       "    <tr style=\"text-align: right;\">\n",
       "      <th></th>\n",
       "      <th>image_id</th>\n",
       "      <th>category_id</th>\n",
       "      <th>area</th>\n",
       "      <th>bbox</th>\n",
       "      <th>iscrowd</th>\n",
       "      <th>id</th>\n",
       "    </tr>\n",
       "  </thead>\n",
       "  <tbody>\n",
       "    <tr>\n",
       "      <th>0</th>\n",
       "      <td>5</td>\n",
       "      <td>0</td>\n",
       "      <td>747.25</td>\n",
       "      <td>[329.8, 203.2, 42.7, 17.5]</td>\n",
       "      <td>0</td>\n",
       "      <td>21</td>\n",
       "    </tr>\n",
       "    <tr>\n",
       "      <th>1</th>\n",
       "      <td>42</td>\n",
       "      <td>0</td>\n",
       "      <td>789.37</td>\n",
       "      <td>[750.7, 479.8, 40.9, 19.3]</td>\n",
       "      <td>0</td>\n",
       "      <td>182</td>\n",
       "    </tr>\n",
       "    <tr>\n",
       "      <th>2</th>\n",
       "      <td>51</td>\n",
       "      <td>1</td>\n",
       "      <td>868.56</td>\n",
       "      <td>[156.2, 222.5, 23.1, 37.6]</td>\n",
       "      <td>0</td>\n",
       "      <td>241</td>\n",
       "    </tr>\n",
       "    <tr>\n",
       "      <th>3</th>\n",
       "      <td>55</td>\n",
       "      <td>0</td>\n",
       "      <td>658.32</td>\n",
       "      <td>[530.8, 877.7, 21.1, 31.2]</td>\n",
       "      <td>0</td>\n",
       "      <td>264</td>\n",
       "    </tr>\n",
       "    <tr>\n",
       "      <th>4</th>\n",
       "      <td>103</td>\n",
       "      <td>1</td>\n",
       "      <td>550.56</td>\n",
       "      <td>[1011.3, 341.3, 12.4, 44.4]</td>\n",
       "      <td>0</td>\n",
       "      <td>460</td>\n",
       "    </tr>\n",
       "    <tr>\n",
       "      <th>...</th>\n",
       "      <td>...</td>\n",
       "      <td>...</td>\n",
       "      <td>...</td>\n",
       "      <td>...</td>\n",
       "      <td>...</td>\n",
       "      <td>...</td>\n",
       "    </tr>\n",
       "    <tr>\n",
       "      <th>308</th>\n",
       "      <td>4813</td>\n",
       "      <td>0</td>\n",
       "      <td>879.45</td>\n",
       "      <td>[801.0, 1004.4, 45.1, 19.5]</td>\n",
       "      <td>0</td>\n",
       "      <td>22817</td>\n",
       "    </tr>\n",
       "    <tr>\n",
       "      <th>309</th>\n",
       "      <td>4814</td>\n",
       "      <td>0</td>\n",
       "      <td>845.46</td>\n",
       "      <td>[452.6, 611.6, 46.2, 18.3]</td>\n",
       "      <td>0</td>\n",
       "      <td>22829</td>\n",
       "    </tr>\n",
       "    <tr>\n",
       "      <th>310</th>\n",
       "      <td>4824</td>\n",
       "      <td>5</td>\n",
       "      <td>893.04</td>\n",
       "      <td>[1005.4, 2.8, 18.3, 48.8]</td>\n",
       "      <td>0</td>\n",
       "      <td>22878</td>\n",
       "    </tr>\n",
       "    <tr>\n",
       "      <th>311</th>\n",
       "      <td>4841</td>\n",
       "      <td>0</td>\n",
       "      <td>809.58</td>\n",
       "      <td>[512.3, 684.7, 39.3, 20.6]</td>\n",
       "      <td>0</td>\n",
       "      <td>22975</td>\n",
       "    </tr>\n",
       "    <tr>\n",
       "      <th>312</th>\n",
       "      <td>4859</td>\n",
       "      <td>1</td>\n",
       "      <td>953.42</td>\n",
       "      <td>[239.7, 974.2, 19.3, 49.4]</td>\n",
       "      <td>0</td>\n",
       "      <td>23074</td>\n",
       "    </tr>\n",
       "  </tbody>\n",
       "</table>\n",
       "<p>313 rows × 6 columns</p>\n",
       "</div>"
      ],
      "text/plain": [
       "     image_id  category_id    area                         bbox  iscrowd  \\\n",
       "0           5            0  747.25   [329.8, 203.2, 42.7, 17.5]        0   \n",
       "1          42            0  789.37   [750.7, 479.8, 40.9, 19.3]        0   \n",
       "2          51            1  868.56   [156.2, 222.5, 23.1, 37.6]        0   \n",
       "3          55            0  658.32   [530.8, 877.7, 21.1, 31.2]        0   \n",
       "4         103            1  550.56  [1011.3, 341.3, 12.4, 44.4]        0   \n",
       "..        ...          ...     ...                          ...      ...   \n",
       "308      4813            0  879.45  [801.0, 1004.4, 45.1, 19.5]        0   \n",
       "309      4814            0  845.46   [452.6, 611.6, 46.2, 18.3]        0   \n",
       "310      4824            5  893.04    [1005.4, 2.8, 18.3, 48.8]        0   \n",
       "311      4841            0  809.58   [512.3, 684.7, 39.3, 20.6]        0   \n",
       "312      4859            1  953.42   [239.7, 974.2, 19.3, 49.4]        0   \n",
       "\n",
       "        id  \n",
       "0       21  \n",
       "1      182  \n",
       "2      241  \n",
       "3      264  \n",
       "4      460  \n",
       "..     ...  \n",
       "308  22817  \n",
       "309  22829  \n",
       "310  22878  \n",
       "311  22975  \n",
       "312  23074  \n",
       "\n",
       "[313 rows x 6 columns]"
      ]
     },
     "execution_count": 9,
     "metadata": {},
     "output_type": "execute_result"
    }
   ],
   "source": [
    "df"
   ]
  },
  {
   "cell_type": "code",
   "execution_count": 10,
   "metadata": {},
   "outputs": [
    {
     "data": {
      "text/plain": [
       "array([0, 1, 5, 7, 6, 3, 2, 4, 9])"
      ]
     },
     "execution_count": 10,
     "metadata": {},
     "output_type": "execute_result"
    }
   ],
   "source": [
    "df['category_id'].unique()"
   ]
  },
  {
   "cell_type": "code",
   "execution_count": 11,
   "metadata": {},
   "outputs": [
    {
     "data": {
      "text/plain": [
       "0    102\n",
       "1     97\n",
       "5     42\n",
       "7     34\n",
       "3     18\n",
       "6      6\n",
       "2      6\n",
       "4      6\n",
       "9      2\n",
       "Name: category_id, dtype: int64"
      ]
     },
     "execution_count": 11,
     "metadata": {},
     "output_type": "execute_result"
    }
   ],
   "source": [
    "df['category_id'].value_counts()"
   ]
  }
 ],
 "metadata": {
  "language_info": {
   "name": "python"
  }
 },
 "nbformat": 4,
 "nbformat_minor": 2
}
