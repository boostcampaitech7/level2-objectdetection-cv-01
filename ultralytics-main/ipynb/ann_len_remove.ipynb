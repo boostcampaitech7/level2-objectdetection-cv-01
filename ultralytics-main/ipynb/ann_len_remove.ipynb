{
 "cells": [
  {
   "cell_type": "markdown",
   "metadata": {},
   "source": [
    "#### annoation 40개 이상 제거"
   ]
  },
  {
   "cell_type": "code",
   "execution_count": 1,
   "metadata": {},
   "outputs": [
    {
     "name": "stdout",
     "output_type": "stream",
     "text": [
      "loading annotations into memory...\n",
      "Done (t=0.03s)\n",
      "creating index...\n",
      "index created!\n",
      "새로운 json 파일 생성 완료: ./dataset/train_ann_len_under_40.json\n"
     ]
    }
   ],
   "source": [
    "from pycocotools.coco import COCO\n",
    "import json\n",
    "from collections import defaultdict\n",
    "\n",
    "# 데이터셋 경로\n",
    "dataset_path = './dataset'\n",
    "train_data = COCO(f'{dataset_path}/train.json')\n",
    "\n",
    "# 이미지 ID와 각 이미지에 속한 annotation 개수를 저장할 딕셔너리\n",
    "image_id_to_annotation_count = defaultdict(int)\n",
    "\n",
    "# 모든 annotation을 가져와서 이미지별로 개수 세기\n",
    "for annotation in train_data.dataset['annotations']:\n",
    "    image_id = annotation['image_id']\n",
    "    image_id_to_annotation_count[image_id] += 1\n",
    "\n",
    "# 30개 이하의 annotation을 가진 이미지들의 ID 수집\n",
    "selected_image_ids = [image_id for image_id, count in image_id_to_annotation_count.items() if count <= 40]\n",
    "\n",
    "# 새로운 JSON 구조 생성\n",
    "new_coco_data = {\n",
    "    'images': [],\n",
    "    'annotations': [],\n",
    "    'categories': train_data.dataset['categories']  # 카테고리 정보는 그대로 유지\n",
    "}\n",
    "\n",
    "# 선택된 이미지에 해당하는 데이터만 새로운 COCO 데이터에 추가\n",
    "new_image_ids_set = set(selected_image_ids)\n",
    "new_image_id_to_index = {}\n",
    "\n",
    "for image in train_data.dataset['images']:\n",
    "    if image['id'] in new_image_ids_set:\n",
    "        new_image_id_to_index[image['id']] = len(new_coco_data['images']) + 1  # 새로운 ID로 매핑\n",
    "        image_copy = image.copy()\n",
    "        image_copy['id'] = new_image_id_to_index[image['id']]  # 이미지 ID 갱신\n",
    "        new_coco_data['images'].append(image_copy)\n",
    "\n",
    "for annotation in train_data.dataset['annotations']:\n",
    "    if annotation['image_id'] in new_image_ids_set:\n",
    "        annotation_copy = annotation.copy()\n",
    "        annotation_copy['image_id'] = new_image_id_to_index[annotation['image_id']]  # 새로운 이미지 ID로 갱신\n",
    "        new_coco_data['annotations'].append(annotation_copy)\n",
    "\n",
    "# 새로운 JSON 파일 저장 (들여쓰기 포함)\n",
    "with open(f'{dataset_path}/train_ann_len_under_40.json', 'w') as f:\n",
    "    json.dump(new_coco_data, f, indent=2)\n",
    "\n",
    "print(f\"새로운 json 파일 생성 완료: {dataset_path}/train_ann_len_under_40.json\")"
   ]
  },
  {
   "cell_type": "code",
   "execution_count": 27,
   "metadata": {},
   "outputs": [],
   "source": [
    "import os\n",
    "\n",
    "os.makedirs(f'{dataset_path}/labels', exist_ok=True)\n",
    "\n",
    "for i in train_data.getImgIds():\n",
    "    img_info = train_data.loadImgs(ids=i)[0]\n",
    "    img_width = img_info['width']\n",
    "    img_height = img_info['height']\n",
    "    file_name = img_info['file_name'].replace(\"jpg\", \"txt\").replace('train/', '')\n",
    "\n",
    "    with open(f'{dataset_path}/labels/{file_name}', 'w') as f:\n",
    "        for j in train_data.loadAnns(train_data.getAnnIds(imgIds=i)):\n",
    "            # category_id는 0부터 시작하도록 설정\n",
    "            category_id = j['category_id']# YOLO 형식은 보통 0부터 시작\n",
    "\n",
    "            # bbox 변환: [x_min, y_min, width, height] -> [x_center, y_center, width, height]\n",
    "            x_min, y_min, width, height = j['bbox']\n",
    "            x_center = x_min + width / 2\n",
    "            y_center = y_min + height / 2\n",
    "\n",
    "            # 좌표를 이미지 크기로 정규화 (0~1 값으로 변환)\n",
    "            x_center /= img_width\n",
    "            y_center /= img_height\n",
    "            width /= img_width\n",
    "            height /= img_height\n",
    "\n",
    "            # YOLO 형식으로 파일에 작성: category_id, x_center, y_center, width, height\n",
    "            f.write(f\"{category_id} {x_center} {y_center} {width} {height}\\n\")\n",
    "\n"
   ]
  }
 ],
 "metadata": {
  "kernelspec": {
   "display_name": "Python 3",
   "language": "python",
   "name": "python3"
  },
  "language_info": {
   "codemirror_mode": {
    "name": "ipython",
    "version": 3
   },
   "file_extension": ".py",
   "mimetype": "text/x-python",
   "name": "python",
   "nbconvert_exporter": "python",
   "pygments_lexer": "ipython3",
   "version": "3.12.4"
  }
 },
 "nbformat": 4,
 "nbformat_minor": 2
}
