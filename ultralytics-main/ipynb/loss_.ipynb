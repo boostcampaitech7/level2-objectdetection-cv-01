{
 "cells": [
  {
   "cell_type": "code",
   "execution_count": null,
   "metadata": {
    "vscode": {
     "languageId": "plaintext"
    }
   },
   "outputs": [],
   "source": [
    "# Focal Loss에 alpha 값을 클래스별로 설정 => 임의적인 숫자를 넣지 말고 평가 지표 결과로 했었어야 했다. \n",
    "self.vfl = VarifocalLoss(alpha=0.75, class_gammas=torch.tensor([\n",
    "    2.5,  # General trash (예측이 어려운 클래스)\n",
    "    1.5,  # Paper\n",
    "    1.5,  # Paper pack\n",
    "    1.0,  # Metal\n",
    "    1.0,  # Glass\n",
    "    1.5,  # Plastic\n",
    "    1.5,  # Styrofoam\n",
    "    1.5,  # Plastic bag\n",
    "    2.5,  # Battery (예측이 어려운 클래스)\n",
    "    2.5   # Clothing (예측이 어려운 클래스)\n",
    "], device='cuda')) if use_vfl else None  # gamma는 Focal Loss의 난이도 보정 파라미터\t\n",
    "\n",
    "class VarifocalLoss(nn.Module):\n",
    "    \"\"\"\n",
    "    Varifocal loss by Zhang et al.\n",
    "\n",
    "    https://arxiv.org/abs/2008.13367.\n",
    "    \"\"\"\n",
    "\n",
    "    def __init__(self, class_gammas=None, alpha=0.75):\n",
    "        \"\"\"Initialize the VarifocalLoss class with class-specific gamma values.\"\"\"\n",
    "        super().__init__()\n",
    "        self.class_gammas = class_gammas  # 클래스별 gamma 값\n",
    "        self.alpha = alpha  # alpha 값\n",
    "\n",
    "    def forward(self, pred_score, gt_score, label):\n",
    "        \"\"\"Computes Varifocal Loss.\"\"\"\n",
    "        \n",
    "        if self.class_gammas is None:\n",
    "            gamma = 2.0  # 기본 gamma 값\n",
    "        else:\n",
    "            # 각 클래스에 해당하는 gamma 값을 가져옵니다. [1, 1, num_classes]\n",
    "            gamma = self.class_gammas.unsqueeze(0).unsqueeze(0)\n",
    "        \n",
    "        # 가중치 계산\n",
    "        weight = self.alpha * pred_score.sigmoid().pow(gamma) * (1 - label) + gt_score * label\n",
    "        \n",
    "        with autocast(enabled=False):\n",
    "            # Varifocal Loss 계산\n",
    "            loss = (\n",
    "                F.binary_cross_entropy_with_logits(pred_score.float(), gt_score.float(), reduction=\"none\") * weight\n",
    "            ).mean(1).sum()\n",
    "        \n",
    "        return loss"
   ]
  }
 ],
 "metadata": {
  "language_info": {
   "name": "python"
  }
 },
 "nbformat": 4,
 "nbformat_minor": 2
}
