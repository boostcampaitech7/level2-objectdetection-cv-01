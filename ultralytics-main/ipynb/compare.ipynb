{
 "cells": [
  {
   "cell_type": "code",
   "execution_count": 2,
   "metadata": {},
   "outputs": [
    {
     "name": "stdout",
     "output_type": "stream",
     "text": [
      "Files are the same\n"
     ]
    }
   ],
   "source": [
    "import csv\n",
    "\n",
    "# 기본 predict\n",
    "file_1 = \"/home/taeyoung4060ti/바탕화면/level2-objectdetection-cv-01/ultralytics-main/results/predictions_coco_format_20241019_212923.csv\"\n",
    "\n",
    "# nms 적용한 predict\n",
    "file_2 = \"/home/taeyoung4060ti/바탕화면/level2-objectdetection-cv-01/ultralytics-main/results/predictions_coco_format_20241019_221402.csv\"\n",
    "\n",
    "# tts, nms 적용한 predict\n",
    "file_3 = \"/home/taeyoung4060ti/바탕화면/level2-objectdetection-cv-01/ultralytics-main/results/predictions_coco_format_20241019_231554.csv\"\n",
    "\n",
    "# 파일 2개를 읽어서 다른지 확인\n",
    "with open(file_2, 'r') as f1, open(file_3, 'r') as f2:\n",
    "    csv1 = csv.reader(f1)\n",
    "    csv2 = csv.reader(f2)\n",
    "    for line1, line2 in zip(csv1, csv2):\n",
    "        if line1 != line2:\n",
    "            print(\"Files are different\")\n",
    "            break\n",
    "    else:\n",
    "        print(\"Files are the same\")"
   ]
  },
  {
   "cell_type": "code",
   "execution_count": null,
   "metadata": {},
   "outputs": [],
   "source": []
  }
 ],
 "metadata": {
  "kernelspec": {
   "display_name": "base",
   "language": "python",
   "name": "python3"
  },
  "language_info": {
   "codemirror_mode": {
    "name": "ipython",
    "version": 3
   },
   "file_extension": ".py",
   "mimetype": "text/x-python",
   "name": "python",
   "nbconvert_exporter": "python",
   "pygments_lexer": "ipython3",
   "version": "3.12.4"
  }
 },
 "nbformat": 4,
 "nbformat_minor": 2
}
